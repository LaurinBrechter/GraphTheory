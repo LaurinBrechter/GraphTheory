{
 "cells": [
  {
   "cell_type": "code",
   "execution_count": 1,
   "metadata": {},
   "outputs": [],
   "source": [
    "import networkx as nx\n",
    "import matplotlib.pyplot as plt\n",
    "import tensorflow_gnn as tfgnn\n",
    "import numpy as np\n",
    "import tensorflow as tf"
   ]
  },
  {
   "cell_type": "code",
   "execution_count": null,
   "metadata": {},
   "outputs": [],
   "source": [
    "graphs = []\n",
    "\n",
    "for i in range(100):\n",
    "    g = nx.random_tree(np.random.poisson(10))\n",
    "\n",
    "    graphs.append((1, g))\n",
    "for i in range(100):\n",
    "    g = nx.erdos_renyi_graph(np.random.poisson(10),0.2)\n",
    "    graphs.append((0,g))"
   ]
  },
  {
   "cell_type": "code",
   "execution_count": null,
   "metadata": {},
   "outputs": [],
   "source": [
    "def nx_graph_to_tfgnn(graph, label) -> tfgnn.GraphTensor : \n",
    "    n_nodes = len(graph.nodes)\n",
    "    n_edges = len(graph.edges)\n",
    "\n",
    "    tf_g = tfgnn.GraphTensor.from_pieces(\n",
    "    node_sets={\n",
    "        \"normal\": tfgnn.NodeSet.from_fields(\n",
    "            sizes=tf.constant([n_nodes]),\n",
    "            features={\n",
    "                \"size\":tf.random.normal((n_nodes,3))\n",
    "                # \"size\": tf.ones((n_nodes, 3))\n",
    "                # tfgnn.HIDDEN_STATE:tf.TensorSpec((None,7), tf.Float32)\n",
    "            }\n",
    "        )\n",
    "    },\n",
    "\n",
    "    edge_sets={\n",
    "        \"connects\": tfgnn.EdgeSet.from_fields(\n",
    "            sizes=tf.constant([n_edges]),\n",
    "            adjacency=tfgnn.Adjacency.from_indices(\n",
    "                target=(\"normal\",[i[1] for i in list(graph.edges)]),\n",
    "                source=(\"normal\",[i[0] for i in list(graph.edges)]),\n",
    "            )\n",
    "        )\n",
    "    },\n",
    "    context=tfgnn.Context.from_fields(\n",
    "        features={\"label\":[label]}\n",
    "    )\n",
    "    )\n",
    "    \n",
    "    return tf_g"
   ]
  },
  {
   "cell_type": "code",
   "execution_count": null,
   "metadata": {},
   "outputs": [],
   "source": [
    "g = nx_graph_to_tfgnn(graphs[0][1], graphs[0][0])"
   ]
  },
  {
   "cell_type": "code",
   "execution_count": null,
   "metadata": {},
   "outputs": [],
   "source": [
    "g = g.merge_batch_to_components()"
   ]
  }
 ],
 "metadata": {
  "kernelspec": {
   "display_name": "Python 3.9.13 64-bit",
   "language": "python",
   "name": "python3"
  },
  "language_info": {
   "codemirror_mode": {
    "name": "ipython",
    "version": 3
   },
   "file_extension": ".py",
   "mimetype": "text/x-python",
   "name": "python",
   "nbconvert_exporter": "python",
   "pygments_lexer": "ipython3",
   "version": "3.9.13"
  },
  "orig_nbformat": 4,
  "vscode": {
   "interpreter": {
    "hash": "8f8cf99212f81ad0c4765861267244807ee1c18364846cdce387b28994a977ba"
   }
  }
 },
 "nbformat": 4,
 "nbformat_minor": 2
}
