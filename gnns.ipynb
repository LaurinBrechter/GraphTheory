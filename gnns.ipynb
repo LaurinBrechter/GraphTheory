{
 "cells": [
  {
   "cell_type": "code",
   "execution_count": 1,
   "metadata": {},
   "outputs": [],
   "source": [
    "import networkx as nx\n",
    "import matplotlib.pyplot as plt\n",
    "import tensorflow_gnn as tfgnn\n",
    "import numpy as np\n",
    "import tensorflow as tf"
   ]
  },
  {
   "cell_type": "code",
   "execution_count": null,
   "metadata": {},
   "outputs": [],
   "source": [
    "graphs = []\n",
    "\n",
    "for i in range(100):\n",
    "    g = nx.random_tree(np.random.poisson(10))\n",
    "\n",
    "    graphs.append((1, g))\n",
    "for i in range(100):\n",
    "    g = nx.erdos_renyi_graph(np.random.poisson(10),0.2)\n",
    "    graphs.append((0,g))"
   ]
  },
  {
   "cell_type": "code",
   "execution_count": null,
   "metadata": {},
   "outputs": [],
   "source": [
    "def nx_graph_to_tfgnn(graph, label) -> tfgnn.GraphTensor : \n",
    "    n_nodes = len(graph.nodes)\n",
    "    n_edges = len(graph.edges)\n",
    "\n",
    "    tf_g = tfgnn.GraphTensor.from_pieces(\n",
    "    node_sets={\n",
    "        \"normal\": tfgnn.NodeSet.from_fields(\n",
    "            sizes=tf.constant([n_nodes]),\n",
    "            features={\n",
    "                \"size\":tf.random.normal((n_nodes,3))\n",
    "                # \"size\": tf.ones((n_nodes, 3))\n",
    "                # tfgnn.HIDDEN_STATE:tf.TensorSpec((None,7), tf.Float32)\n",
    "            }\n",
    "        )\n",
    "    },\n",
    "\n",
    "    edge_sets={\n",
    "        \"connects\": tfgnn.EdgeSet.from_fields(\n",
    "            sizes=tf.constant([n_edges]),\n",
    "            adjacency=tfgnn.Adjacency.from_indices(\n",
    "                target=(\"normal\",[i[1] for i in list(graph.edges)]),\n",
    "                source=(\"normal\",[i[0] for i in list(graph.edges)]),\n",
    "            )\n",
    "        )\n",
    "    },\n",
    "    context=tfgnn.Context.from_fields(\n",
    "        features={\"label\":[label]}\n",
    "    )\n",
    "    )\n",
    "    \n",
    "    return tf_g"
   ]
  },
  {
   "cell_type": "code",
   "execution_count": null,
   "metadata": {},
   "outputs": [],
   "source": [
    "g = nx_graph_to_tfgnn(graphs[0][1], graphs[0][0])"
   ]
  },
  {
   "cell_type": "code",
   "execution_count": null,
   "metadata": {},
   "outputs": [],
   "source": [
    "g = g.merge_batch_to_components()"
   ]
  },
  {
   "cell_type": "code",
   "execution_count": null,
   "metadata": {},
   "outputs": [],
   "source": [
    "import networkx as nx\n",
    "import matplotlib.pyplot as plt\n",
    "import tensorflow_gnn as tfgnn\n",
    "from tensorflow_gnn import runner"
   ]
  },
  {
   "cell_type": "code",
   "execution_count": null,
   "metadata": {},
   "outputs": [],
   "source": [
    "graphs = []\n",
    "\n",
    "for i in range(1):\n",
    "    g = nx.random_tree(np.random.poisson(10))\n",
    "    graphs.append((\"tree\", g))\n",
    "\n",
    "for i in range(1):\n",
    "    g = nx.erdos_renyi_graph(np.random.poisson(10),0.2)\n",
    "    graphs.append((\"erdos\",g))"
   ]
  },
  {
   "cell_type": "code",
   "execution_count": null,
   "metadata": {},
   "outputs": [],
   "source": [
    "fig, ax = plt.subplots(2,1)\n",
    "nx.draw(graphs[0][1], ax=ax[0])\n",
    "nx.draw(graphs[1][1], ax=ax[1])"
   ]
  },
  {
   "cell_type": "code",
   "execution_count": null,
   "metadata": {},
   "outputs": [],
   "source": [
    "node_set_lengths = [[len(graph[1].nodes)] for graph in graphs]\n",
    "edge_set_lengths = [[len(graph[1].edges)] for graph in graphs]"
   ]
  },
  {
   "cell_type": "code",
   "execution_count": null,
   "metadata": {},
   "outputs": [],
   "source": [
    "sources = [[node[0] for node in list(graph[1].edges)] for graph in graphs]\n",
    "targets = [[node[1] for node in list(graph[1].edges)] for graph in graphs]\n",
    "means = [3,10]"
   ]
  },
  {
   "cell_type": "code",
   "execution_count": null,
   "metadata": {},
   "outputs": [
    {
     "data": {
      "text/plain": [
       "[3, 10]"
      ]
     },
     "metadata": {},
     "output_type": "display_data"
    }
   ],
   "source": [
    "means"
   ]
  },
  {
   "cell_type": "code",
   "execution_count": null,
   "metadata": {},
   "outputs": [
    {
     "data": {
      "text/plain": [
       "<tf.Tensor: shape=(10,), dtype=float32, numpy=\n",
       "array([ 0.20341861,  1.1126    ,  0.48681453, -0.02784214, -1.9175309 ,\n",
       "       -0.98004955,  2.384279  , -0.6575413 , -1.2647614 , -0.522205  ],\n",
       "      dtype=float32)>"
      ]
     },
     "metadata": {},
     "output_type": "display_data"
    }
   ],
   "source": [
    "tf.random.normal([10,], 0,1)"
   ]
  },
  {
   "cell_type": "code",
   "execution_count": null,
   "metadata": {},
   "outputs": [],
   "source": [
    "tf.ragged.constant(\n",
    "                    [\n",
    "                        tf.random.normal([10,], 0,1),\n",
    "                        tf.random.normal([10,], 0,1)\n",
    "                    ]\n",
    ")"
   ]
  },
  {
   "cell_type": "code",
   "execution_count": null,
   "metadata": {},
   "outputs": [],
   "source": [
    "tf_g = tfgnn.GraphTensor.from_pieces(\n",
    "    node_sets={\n",
    "        \"normal\": tfgnn.NodeSet.from_fields(\n",
    "            sizes=tf.constant(node_set_lengths),\n",
    "            features={\n",
    "                tfgnn.HIDDEN_STATE:tf.ragged.constant(\n",
    "                    [\n",
    "                        np.random.normal(means[i],1,node_set_lengths[i]) for i in range(len(node_set_lengths))\n",
    "                    ], dtype=tf.float32\n",
    "                ),\n",
    "\n",
    "                \"occupation_id\":tf.ragged.constant(\n",
    "                    [\n",
    "                        np.random.randint(0,means[i], node_set_lengths[i]) for i in range(len(node_set_lengths))\n",
    "                    ]\n",
    "                )\n",
    "                # \"size\": tf.ones((n_nodes, 3))\n",
    "                # tfgnn.HIDDEN_STATE:tf.TensorSpec((None,7), tf.Float32)\n",
    "            }\n",
    "        )\n",
    "    },\n",
    "\n",
    "    edge_sets={\n",
    "        \"connect\": tfgnn.EdgeSet.from_fields(\n",
    "            sizes=tf.constant(edge_set_lengths),\n",
    "            adjacency=tfgnn.Adjacency.from_indices(\n",
    "                target=(\"normal\",tf.ragged.constant(targets)),\n",
    "                source=(\"normal\",tf.ragged.constant(sources)),\n",
    "            )\n",
    "        )\n",
    "    },\n",
    "    context=tfgnn.Context.from_fields(\n",
    "        features={\"label\":[[\"tree\"], [\"erdos\"]]}\n",
    "    )\n",
    ")"
   ]
  },
  {
   "cell_type": "code",
   "execution_count": null,
   "metadata": {},
   "outputs": [],
   "source": [
    "tf_g_merged = tf_g.merge_batch_to_components()"
   ]
  },
  {
   "cell_type": "code",
   "execution_count": null,
   "metadata": {},
   "outputs": [],
   "source": [
    "out = tfgnn.keras.layers.GraphUpdate(\n",
    "    node_sets={\n",
    "        \"normal\":tfgnn.keras.layers.NodeSetUpdate(\n",
    "            {\n",
    "                \"connect\":tfgnn.keras.layers.SimpleConv(\n",
    "                    tf.keras.layers.Dense(64, \"relu\"), \"sum\", receiver_tag=tfgnn.SOURCE\n",
    "                )\n",
    "            },\n",
    "            tfgnn.keras.layers.NextStateFromConcat(tf.keras.layers.Dense(128))\n",
    "        )\n",
    "    }\n",
    ")"
   ]
  },
  {
   "cell_type": "code",
   "execution_count": null,
   "metadata": {},
   "outputs": [],
   "source": [
    "out(tf_g_merged)"
   ]
  },
  {
   "cell_type": "code",
   "execution_count": null,
   "metadata": {},
   "outputs": [],
   "source": [
    "tfgnn.keras.layers.SimpleConv(\n",
    "    tf.keras.layers.Dense(64, \"relu\")\n",
    ")(tf_g_merged)"
   ]
  },
  {
   "cell_type": "code",
   "execution_count": null,
   "metadata": {},
   "outputs": [],
   "source": [
    "from tensorflow_gnn.models import graph_sage"
   ]
  },
  {
   "cell_type": "code",
   "execution_count": null,
   "metadata": {},
   "outputs": [],
   "source": [
    "def set_initial_node_state(node_set, node_set_name):\n",
    "    if node_set_name == \"normal\":\n",
    "        occupation_embedding = tf.keras.layers.Embedding(10, 32)\n",
    "        return tf.keras.layers.Concatenate()(\n",
    "            [occupation_embedding(node_set[\"occupation_id\"])]\n",
    "        )\n",
    "\n",
    "def set_context(context):\n",
    "    print(context)\n",
    "    if context_name == \"label\":\n",
    "        context_embedding = tf.keras.layers.TextVectorization"
   ]
  },
  {
   "cell_type": "code",
   "execution_count": null,
   "metadata": {},
   "outputs": [
    {
     "data": {
      "text/plain": [
       "<tf.Tensor: shape=(2,), dtype=string, numpy=array([b'tree', b'erdos'], dtype=object)>"
      ]
     },
     "metadata": {},
     "output_type": "display_data"
    }
   ],
   "source": [
    "tf_g_merged.context[\"label\"]"
   ]
  },
  {
   "cell_type": "code",
   "execution_count": null,
   "metadata": {},
   "outputs": [],
   "source": [
    "graph = tfgnn.keras.layers.MapFeatures(\n",
    "    node_sets_fn=set_initial_node_state,\n",
    "    # context_fn=set_context\n",
    ")(tf_g_merged)"
   ]
  },
  {
   "cell_type": "code",
   "execution_count": null,
   "metadata": {},
   "outputs": [
    {
     "data": {
      "text/plain": [
       "<tf.Tensor: shape=(24,), dtype=float64, numpy=\n",
       "array([ 3.01497136,  4.47924201,  1.72604073,  3.15120397,  2.9806009 ,\n",
       "        3.05342666,  1.87367667,  2.87844245,  2.53267698,  4.35745556,\n",
       "        2.24356763,  9.09085008, 10.41487504,  9.42272877, 10.92901437,\n",
       "       11.68119551,  9.57105215, 10.28672148,  8.88603723,  9.23901135,\n",
       "       10.37924045, 10.22259462, 10.75000173, 11.138661  ])>"
      ]
     },
     "metadata": {},
     "output_type": "display_data"
    }
   ],
   "source": [
    "tf_g_merged.node_sets[\"normal\"][\"hidden_state\"]"
   ]
  },
  {
   "cell_type": "code",
   "execution_count": null,
   "metadata": {},
   "outputs": [],
   "source": [
    "graph_test.node_sets[\"nodes\"][\"hidden_state\"]"
   ]
  },
  {
   "cell_type": "code",
   "execution_count": null,
   "metadata": {},
   "outputs": [
    {
     "data": {
      "text/plain": [
       "<tf.Tensor: shape=(25,), dtype=int32, numpy=\n",
       "array([ 0,  0,  1,  1,  2,  3,  5,  5,  5,  6, 11, 12, 12, 12, 12, 13, 15,\n",
       "       15, 15, 15, 16, 16, 17, 19, 20], dtype=int32)>"
      ]
     },
     "metadata": {},
     "output_type": "display_data"
    }
   ],
   "source": [
    "tf_g_merged.edge_sets[\"edges\"].adjacency[0]"
   ]
  },
  {
   "cell_type": "code",
   "execution_count": null,
   "metadata": {},
   "outputs": [],
   "source": [
    "import tensorflow as tf\n",
    "import tensorflow_gnn as tfgnn\n",
    "from tensorflow_gnn.models.gcn import gcn_conv\n",
    "graph_test = tfgnn.GraphTensor.from_pieces(\n",
    "   node_sets={\n",
    "       tfgnn.NODES: tfgnn.NodeSet.from_fields(\n",
    "           sizes=[2, 2],\n",
    "           features={tfgnn.HIDDEN_STATE: tf.constant(\n",
    "                         [[1., 0, 0], [0, 1, 0]]*2)\n",
    "                    })},\n",
    "   edge_sets={\n",
    "       tfgnn.EDGES: tfgnn.EdgeSet.from_fields(\n",
    "           sizes=[2, 2],\n",
    "           adjacency=tfgnn.Adjacency.from_indices(\n",
    "               source=(tfgnn.NODES, tf.constant([0, 1, 2, 3],\n",
    "                                                dtype=tf.int64)),\n",
    "               target=(tfgnn.NODES, tf.constant([1, 0, 3, 2],\n",
    "                                                dtype=tf.int64))))})\n",
    "gcnconv = gcn_conv.GCNConv(3)\n",
    "gcnconv(tf_g_merged, edge_set_name=tfgnn.EDGES)   # Has shape=(4, 3)."
   ]
  },
  {
   "cell_type": "code",
   "execution_count": null,
   "metadata": {},
   "outputs": [
    {
     "data": {
      "text/plain": [
       "{'normal': NodeSet(features={'hidden_state': <tf.Tensor: shape=(24, 32), dtype=tf.float32>}, sizes=[11 13])}"
      ]
     },
     "metadata": {},
     "output_type": "display_data"
    }
   ],
   "source": [
    "graph.node_sets"
   ]
  },
  {
   "cell_type": "code",
   "execution_count": null,
   "metadata": {},
   "outputs": [
    {
     "data": {
      "text/plain": [
       "{'nodes': NodeSet(features={'hidden_state': <tf.Tensor: shape=(4, 3), dtype=tf.float32>}, sizes=[2 2])}"
      ]
     },
     "metadata": {},
     "output_type": "display_data"
    }
   ],
   "source": [
    "graph_test.node_sets"
   ]
  },
  {
   "cell_type": "code",
   "execution_count": null,
   "metadata": {},
   "outputs": [],
   "source": [
    "from tensorflow_gnn.models.gcn import gcn_conv\n",
    "\n",
    "gcnconv = gcn_conv.GCNConv(32)\n",
    "gcnconv(graph, edge_set_name=tfgnn.EDGES)"
   ]
  }
 ],
 "metadata": {
  "kernelspec": {
   "display_name": "Python 3.9.13 64-bit",
   "language": "python",
   "name": "python3"
  },
  "language_info": {
   "codemirror_mode": {
    "name": "ipython",
    "version": 3
   },
   "file_extension": ".py",
   "mimetype": "text/x-python",
   "name": "python",
   "nbconvert_exporter": "python",
   "pygments_lexer": "ipython3",
   "version": "3.9.13 (tags/v3.9.13:6de2ca5, May 17 2022, 16:36:42) [MSC v.1929 64 bit (AMD64)]"
  },
  "orig_nbformat": 4,
  "vscode": {
   "interpreter": {
    "hash": "8f8cf99212f81ad0c4765861267244807ee1c18364846cdce387b28994a977ba"
   }
  }
 },
 "nbformat": 4,
 "nbformat_minor": 2
}
