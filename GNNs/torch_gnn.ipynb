{
 "cells": [
  {
   "cell_type": "code",
   "execution_count": null,
   "metadata": {},
   "outputs": [],
   "source": [
    "import networkx as nx\n",
    "import numpy as np\n",
    "import seaborn as sns\n",
    "import pandas as pd\n",
    "import matplotlib.pyplot as plt\n",
    "import torch\n",
    "from torch_geometric.data import Data\n",
    "import torch\n",
    "import torch.nn.functional as F\n",
    "from torch_geometric import datasets\n",
    "from torch_geometric.nn import GCNConv\n",
    "import torch_geometric\n",
    "from torch_geometric.data import Data\n",
    "from torch_geometric.loader import DataLoader\n",
    "from torch_geometric.utils import scatter\n",
    "from torch_geometric.datasets import Planetoid"
   ]
  },
  {
   "cell_type": "code",
   "execution_count": null,
   "metadata": {},
   "outputs": [],
   "source": [
    "class CustomDs(torch_geometric.data.InMemoryDataset):\n",
    "    def __init__(self, n_graphs, tranform=None) -> None:\n",
    "        graphs = []\n",
    "        for _ in range(n_graphs):\n",
    "            super().__init__(\".\", tranform)\n",
    "            g = nx.erdos_renyi_graph(100, 0.1)\n",
    "            nx.set_node_attributes(g, {i[0]: (i[1]>9)*1 for i in list(g.degree())}, \"health\")\n",
    "            n_nodes = len(g.nodes())\n",
    "            edge_from = [i[0] for i in g.edges]\n",
    "            edge_to = [i[1] for i in g.edges]\n",
    "\n",
    "            ei = torch.tensor([\n",
    "            edge_from,\n",
    "            edge_to\n",
    "            ], dtype=torch.long)\n",
    "\n",
    "            y = np.array(list(dict(g.nodes(data=\"health\")).values())).reshape(-1,1)\n",
    "            y = torch.tensor(y).float()\n",
    "            # x = torch.rand(size=(n_nodes,1))\n",
    "            x = torch.tensor(list(g.degree())).float()\n",
    "\n",
    "            data = Data(y=y, edge_index=ei, x=x)\n",
    "            graphs.append(data)\n",
    "\n",
    "        self.data, self.slices = self.collate(graphs)"
   ]
  },
  {
   "cell_type": "code",
   "execution_count": null,
   "metadata": {},
   "outputs": [],
   "source": [
    "ds = CustomDs(5)"
   ]
  },
  {
   "cell_type": "code",
   "execution_count": null,
   "metadata": {},
   "outputs": [],
   "source": [
    "class GCN(torch.nn.Module):\n",
    "    def __init__(self):\n",
    "        super().__init__()\n",
    "        self.conv1 = GCNConv(ds.num_node_features, 16)\n",
    "        self.conv2 = GCNConv(16, 1)\n",
    "\n",
    "    def forward(self, data):\n",
    "        x, edge_index = data.x, data.edge_index\n",
    "\n",
    "        x = self.conv1(x, edge_index)\n",
    "        x = F.relu(x)\n",
    "        # x = F.dropout(x, training=self.training)\n",
    "        x = self.conv2(x, edge_index)\n",
    "\n",
    "        return torch.sigmoid(x)"
   ]
  },
  {
   "cell_type": "code",
   "execution_count": null,
   "metadata": {},
   "outputs": [],
   "source": [
    "device = torch.device('cuda' if torch.cuda.is_available() else 'cpu')\n",
    "model = GCN().to(device)\n",
    "data = ds[0].to(device)\n",
    "optimizer = torch.optim.Adam(model.parameters(), lr=0.01, weight_decay=5e-4)"
   ]
  },
  {
   "cell_type": "code",
   "execution_count": null,
   "metadata": {},
   "outputs": [
    {
     "name": "stdout",
     "output_type": "stream",
     "text": [
      "tensor(23.)\n",
      "tensor(24.)\n",
      "tensor(23.)\n",
      "tensor(23.)\n",
      "tensor(22.)\n",
      "tensor(23.)\n",
      "tensor(23.)\n",
      "tensor(22.)\n",
      "tensor(23.)\n",
      "tensor(22.)\n",
      "tensor(22.)\n",
      "tensor(22.)\n",
      "tensor(21.)\n",
      "tensor(23.)\n",
      "tensor(22.)\n",
      "tensor(21.)\n",
      "tensor(21.)\n",
      "tensor(22.)\n",
      "tensor(23.)\n",
      "tensor(23.)\n"
     ]
    }
   ],
   "source": [
    "for epoch in range(200):\n",
    "    optimizer.zero_grad()\n",
    "    out = model(data)\n",
    "    loss = F.binary_cross_entropy(out, data.y)\n",
    "    # loss = F.ll_lo(out, data.y)\n",
    "    loss.backward()\n",
    "    optimizer.step()\n",
    "\n",
    "    if epoch % 10 == 0:\n",
    "        print((((model(ds[1]) > 0.5 )== ds[1].y).sum())-ds[1].y.sum())"
   ]
  },
  {
   "cell_type": "code",
   "execution_count": null,
   "metadata": {},
   "outputs": [
    {
     "data": {
      "text/plain": [
       "tensor(74)"
      ]
     },
     "metadata": {},
     "output_type": "display_data"
    }
   ],
   "source": [
    "((model(ds[1]) > 0.5 )== ds[1].y).sum()"
   ]
  },
  {
   "cell_type": "code",
   "execution_count": null,
   "metadata": {},
   "outputs": [
    {
     "data": {
      "text/plain": [
       "tensor(51.)"
      ]
     },
     "metadata": {},
     "output_type": "display_data"
    }
   ],
   "source": [
    "ds[1].y.sum()"
   ]
  }
 ],
 "metadata": {
  "kernelspec": {
   "display_name": "Python 3",
   "language": "python",
   "name": "python3"
  },
  "language_info": {
   "codemirror_mode": {
    "name": "ipython",
    "version": 3
   },
   "file_extension": ".py",
   "mimetype": "text/x-python",
   "name": "python",
   "nbconvert_exporter": "python",
   "pygments_lexer": "ipython3",
   "version": "3.9.16"
  },
  "orig_nbformat": 4,
  "vscode": {
   "interpreter": {
    "hash": "2352cd234a6c0ecfb6dc2604fce7c909418c46b4c74c0de4bd6d7f449f87399a"
   }
  }
 },
 "nbformat": 4,
 "nbformat_minor": 2
}
