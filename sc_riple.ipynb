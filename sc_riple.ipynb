{
 "cells": [
  {
   "cell_type": "code",
   "execution_count": 1,
   "metadata": {},
   "outputs": [],
   "source": [
    "import networkx as nx\n",
    "import numpy as np"
   ]
  },
  {
   "cell_type": "code",
   "execution_count": null,
   "metadata": {},
   "outputs": [],
   "source": [
    "# forward disruption\n",
    "\n",
    "\n",
    "# backward disruption\n",
    "BR = "
   ]
  },
  {
   "cell_type": "code",
   "execution_count": 11,
   "metadata": {},
   "outputs": [],
   "source": [
    "n_nodes = 20"
   ]
  },
  {
   "cell_type": "code",
   "execution_count": 31,
   "metadata": {},
   "outputs": [],
   "source": [
    "g = nx.erdos_renyi_graph(n_nodes, 0.3)"
   ]
  },
  {
   "cell_type": "code",
   "execution_count": 59,
   "metadata": {},
   "outputs": [
    {
     "name": "stderr",
     "output_type": "stream",
     "text": [
      "C:\\Users\\Lenovo\\AppData\\Local\\Temp\\ipykernel_12688\\1598881097.py:1: FutureWarning: adjacency_matrix will return a scipy.sparse array instead of a matrix in Networkx 3.0.\n",
      "  adj_mat = nx.adjacency_matrix(g).toarray().astype(bool)\n"
     ]
    }
   ],
   "source": [
    "adj_mat = nx.adjacency_matrix(g).toarray().astype(bool)"
   ]
  },
  {
   "cell_type": "code",
   "execution_count": 63,
   "metadata": {},
   "outputs": [],
   "source": [
    "BR = np.random.rand(n_nodes, n_nodes)\n",
    "FR = np.random.rand(n_nodes, n_nodes)"
   ]
  },
  {
   "cell_type": "code",
   "execution_count": 45,
   "metadata": {},
   "outputs": [],
   "source": [
    "# BR = adj_mat.toarray() * BR"
   ]
  },
  {
   "cell_type": "code",
   "execution_count": 64,
   "metadata": {},
   "outputs": [
    {
     "data": {
      "text/plain": [
       "array([1.99511230e-01, 1.83449701e-01, 1.97763004e-02, 3.68251732e-02,\n",
       "       2.86532827e-01, 4.04955553e-03, 2.88608667e-02, 3.49974728e-03,\n",
       "       2.47775746e-10, 7.31565050e-04, 2.80841712e-05, 9.21800846e-03,\n",
       "       1.45865735e-03, 1.31415191e-03, 1.54816396e-03, 2.75256693e-03,\n",
       "       3.75839845e-04, 1.38036214e-04, 6.66060446e-02, 1.72695466e-02])"
      ]
     },
     "execution_count": 64,
     "metadata": {},
     "output_type": "execute_result"
    }
   ],
   "source": [
    "np.prod(BR, where=adj_mat, axis=1)"
   ]
  },
  {
   "cell_type": "code",
   "execution_count": 52,
   "metadata": {},
   "outputs": [],
   "source": [
    "a = np.array([\n",
    "    [1., 2.], \n",
    "    [3., 4.]\n",
    "])"
   ]
  },
  {
   "cell_type": "code",
   "execution_count": 53,
   "metadata": {},
   "outputs": [
    {
     "data": {
      "text/plain": [
       "array([ 2., 12.])"
      ]
     },
     "execution_count": 53,
     "metadata": {},
     "output_type": "execute_result"
    }
   ],
   "source": [
    "np.prod(a, axis=1)"
   ]
  },
  {
   "cell_type": "code",
   "execution_count": 46,
   "metadata": {},
   "outputs": [
    {
     "data": {
      "text/plain": [
       "array([[0.        , 0.        , 0.        , 0.8697425 , 0.        ,\n",
       "        0.        , 0.        , 0.        , 0.        , 0.74216256,\n",
       "        0.        , 0.        , 0.        , 0.        , 0.        ,\n",
       "        0.74674414, 0.        , 0.52563057, 0.        , 0.        ],\n",
       "       [0.        , 0.        , 0.        , 0.        , 0.        ,\n",
       "        0.        , 0.        , 0.01180834, 0.95557868, 0.        ,\n",
       "        0.        , 0.        , 0.        , 0.89510718, 0.        ,\n",
       "        0.        , 0.        , 0.        , 0.        , 0.        ],\n",
       "       [0.        , 0.        , 0.        , 0.89620927, 0.        ,\n",
       "        0.        , 0.        , 0.25183087, 0.        , 0.        ,\n",
       "        0.        , 0.85911982, 0.        , 0.79353178, 0.90101406,\n",
       "        0.        , 0.50635114, 0.        , 0.22770244, 0.        ],\n",
       "       [0.08063699, 0.        , 0.874556  , 0.        , 0.        ,\n",
       "        0.        , 0.        , 0.94121869, 0.        , 0.        ,\n",
       "        0.        , 0.        , 0.        , 0.55240813, 0.        ,\n",
       "        0.        , 0.        , 0.28882529, 0.        , 0.        ],\n",
       "       [0.        , 0.        , 0.        , 0.        , 0.        ,\n",
       "        0.        , 0.        , 0.        , 0.        , 0.        ,\n",
       "        0.        , 0.        , 0.        , 0.19753112, 0.50355082,\n",
       "        0.32596278, 0.        , 0.        , 0.        , 0.        ],\n",
       "       [0.        , 0.        , 0.        , 0.        , 0.        ,\n",
       "        0.        , 0.        , 0.        , 0.98026096, 0.        ,\n",
       "        0.43705082, 0.72751992, 0.        , 0.        , 0.        ,\n",
       "        0.        , 0.        , 0.49557487, 0.07724592, 0.        ],\n",
       "       [0.        , 0.        , 0.        , 0.        , 0.        ,\n",
       "        0.        , 0.        , 0.        , 0.        , 0.        ,\n",
       "        0.        , 0.        , 0.52464854, 0.27108947, 0.        ,\n",
       "        0.        , 0.        , 0.        , 0.        , 0.65715139],\n",
       "       [0.        , 0.6793471 , 0.02479693, 0.76660869, 0.        ,\n",
       "        0.        , 0.        , 0.        , 0.47285969, 0.        ,\n",
       "        0.        , 0.        , 0.        , 0.27169453, 0.        ,\n",
       "        0.        , 0.        , 0.        , 0.        , 0.        ],\n",
       "       [0.        , 0.4744572 , 0.        , 0.        , 0.        ,\n",
       "        0.3390994 , 0.        , 0.89709738, 0.        , 0.49737766,\n",
       "        0.28897694, 0.        , 0.89440938, 0.34987468, 0.        ,\n",
       "        0.79747126, 0.72039566, 0.69736549, 0.        , 0.        ],\n",
       "       [0.79460628, 0.        , 0.        , 0.        , 0.        ,\n",
       "        0.        , 0.        , 0.        , 0.70895529, 0.        ,\n",
       "        0.37747481, 0.        , 0.        , 0.39870421, 0.        ,\n",
       "        0.09539149, 0.        , 0.        , 0.        , 0.56256594],\n",
       "       [0.        , 0.        , 0.        , 0.        , 0.        ,\n",
       "        0.79094219, 0.        , 0.        , 0.56012588, 0.36369855,\n",
       "        0.        , 0.49738755, 0.75020966, 0.        , 0.        ,\n",
       "        0.        , 0.        , 0.64738387, 0.        , 0.        ],\n",
       "       [0.        , 0.        , 0.62973015, 0.        , 0.        ,\n",
       "        0.56591427, 0.        , 0.        , 0.        , 0.        ,\n",
       "        0.45411093, 0.        , 0.        , 0.        , 0.        ,\n",
       "        0.        , 0.        , 0.        , 0.        , 0.        ],\n",
       "       [0.        , 0.        , 0.        , 0.        , 0.        ,\n",
       "        0.        , 0.83848356, 0.        , 0.67398585, 0.        ,\n",
       "        0.21821163, 0.        , 0.        , 0.        , 0.        ,\n",
       "        0.        , 0.76181054, 0.76416252, 0.        , 0.85867188],\n",
       "       [0.        , 0.46590995, 0.5875472 , 0.40230213, 0.33607627,\n",
       "        0.        , 0.590583  , 0.92195167, 0.82230995, 0.91162955,\n",
       "        0.        , 0.        , 0.        , 0.        , 0.        ,\n",
       "        0.        , 0.56365661, 0.        , 0.        , 0.        ],\n",
       "       [0.        , 0.        , 0.50321409, 0.        , 0.37460607,\n",
       "        0.        , 0.        , 0.        , 0.        , 0.        ,\n",
       "        0.        , 0.        , 0.        , 0.        , 0.        ,\n",
       "        0.        , 0.        , 0.        , 0.        , 0.24018027],\n",
       "       [0.03002694, 0.        , 0.        , 0.        , 0.78311774,\n",
       "        0.        , 0.        , 0.        , 0.52862188, 0.7712179 ,\n",
       "        0.        , 0.        , 0.        , 0.        , 0.        ,\n",
       "        0.        , 0.        , 0.        , 0.55741681, 0.        ],\n",
       "       [0.        , 0.        , 0.75040728, 0.        , 0.        ,\n",
       "        0.        , 0.        , 0.        , 0.57716015, 0.        ,\n",
       "        0.        , 0.        , 0.2691202 , 0.15313959, 0.        ,\n",
       "        0.        , 0.        , 0.        , 0.        , 0.70646405],\n",
       "       [0.12743641, 0.        , 0.        , 0.67603625, 0.        ,\n",
       "        0.99672397, 0.        , 0.        , 0.67860054, 0.        ,\n",
       "        0.03706337, 0.        , 0.38183547, 0.        , 0.        ,\n",
       "        0.        , 0.        , 0.        , 0.51566378, 0.        ],\n",
       "       [0.        , 0.        , 0.76036137, 0.        , 0.        ,\n",
       "        0.10846746, 0.        , 0.        , 0.        , 0.        ,\n",
       "        0.        , 0.        , 0.        , 0.        , 0.        ,\n",
       "        0.04421579, 0.        , 0.2394892 , 0.        , 0.        ],\n",
       "       [0.        , 0.        , 0.        , 0.        , 0.        ,\n",
       "        0.        , 0.72436332, 0.        , 0.        , 0.0158458 ,\n",
       "        0.        , 0.        , 0.09857968, 0.        , 0.55962162,\n",
       "        0.        , 0.8896697 , 0.        , 0.        , 0.        ]])"
      ]
     },
     "execution_count": 46,
     "metadata": {},
     "output_type": "execute_result"
    }
   ],
   "source": [
    "BR"
   ]
  },
  {
   "cell_type": "code",
   "execution_count": null,
   "metadata": {},
   "outputs": [],
   "source": [
    "np.prod()"
   ]
  },
  {
   "cell_type": "code",
   "execution_count": null,
   "metadata": {},
   "outputs": [],
   "source": [
    "nx.draw(g)"
   ]
  },
  {
   "cell_type": "code",
   "execution_count": 19,
   "metadata": {},
   "outputs": [],
   "source": [
    "nx.set_node_attributes(g, {i:{\"BR\":np.random.rand()} for i in range(20)})\n",
    "nx.set_node_attributes(g, {i:{\"FR\":np.random.rand()} for i in range(20)})"
   ]
  },
  {
   "cell_type": "code",
   "execution_count": null,
   "metadata": {},
   "outputs": [],
   "source": []
  }
 ],
 "metadata": {
  "kernelspec": {
   "display_name": "Python 3",
   "language": "python",
   "name": "python3"
  },
  "language_info": {
   "codemirror_mode": {
    "name": "ipython",
    "version": 3
   },
   "file_extension": ".py",
   "mimetype": "text/x-python",
   "name": "python",
   "nbconvert_exporter": "python",
   "pygments_lexer": "ipython3",
   "version": "3.10.4"
  },
  "orig_nbformat": 4,
  "vscode": {
   "interpreter": {
    "hash": "8c3d4d9970fc5c09c50d9318a9c7fbf4d0159e4b28833276f5678ee22bded273"
   }
  }
 },
 "nbformat": 4,
 "nbformat_minor": 2
}
