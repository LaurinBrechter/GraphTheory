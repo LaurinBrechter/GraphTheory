{
 "cells": [
  {
   "cell_type": "code",
   "execution_count": 1,
   "metadata": {},
   "outputs": [],
   "source": [
    "import networkx as nx\n",
    "import plotly.graph_objects as go"
   ]
  },
  {
   "cell_type": "code",
   "execution_count": 2,
   "metadata": {},
   "outputs": [],
   "source": [
    "def nx_to_plotly(graph, positions=None, edge_color=\"red\", node_color=\"blue\"):\n",
    "\n",
    "    if not positions:\n",
    "        positions = nx.spring_layout(graph)\n",
    "    else:\n",
    "        assert isinstance(positions, dict), \"positions needs to be a dict with the node positions\"\n",
    "    \n",
    "    edge_x = []\n",
    "    edge_y = []\n",
    "\n",
    "    for edge in graph.edges():\n",
    "        x0, y0 = positions[edge[0]]\n",
    "        x1, y1 = positions[edge[1]]\n",
    "        \n",
    "        edge_x.append(x0)\n",
    "        edge_x.append(x1)\n",
    "        edge_x.append(None)\n",
    "        edge_y.append(y0)\n",
    "        edge_y.append(y1)\n",
    "        edge_y.append(None)\n",
    "\n",
    "    edge_trace = go.Scatter(\n",
    "        x=edge_x, y=edge_y,\n",
    "        line=dict(width=0.5, color=edge_color),\n",
    "        hoverinfo='none',\n",
    "        mode='lines',\n",
    "    )\n",
    "\n",
    "\n",
    "    node_x = []\n",
    "    node_y = []\n",
    "    for node in graph.nodes():\n",
    "        x, y = positions[node]\n",
    "        node_x.append(x)\n",
    "        node_y.append(y)\n",
    "\n",
    "    node_trace = go.Scatter(\n",
    "    x=node_x, y=node_y,\n",
    "    mode='markers',\n",
    "    marker = dict(\n",
    "        size = 10,\n",
    "        color=node_color\n",
    "        )\n",
    "    )\n",
    "\n",
    "    graph_fig = go.Figure(data=[edge_trace, node_trace],\n",
    "             layout=go.Layout(\n",
    "                titlefont_size=16,\n",
    "                showlegend=False,\n",
    "                hovermode='closest',\n",
    "                margin=dict(b=20,l=5,r=5,t=40),\n",
    "                xaxis=dict(showgrid=False, zeroline=False, showticklabels=False),\n",
    "                yaxis=dict(showgrid=False, zeroline=False, showticklabels=False))\n",
    "                )\n",
    "\n",
    "\n",
    "    return graph_fig"
   ]
  },
  {
   "cell_type": "code",
   "execution_count": 3,
   "metadata": {},
   "outputs": [
    {
     "data": {
      "application/vnd.plotly.v1+json": {
       "config": {
        "plotlyServerURL": "https://plot.ly"
       },
       "data": [
        {
         "hoverinfo": "none",
         "line": {
          "color": "red",
          "width": 0.5
         },
         "mode": "lines",
         "type": "scatter",
         "x": [
          0.007919770988394886,
          0.12025532133064484,
          null,
          0.007919770988394886,
          -0.25833078230241235,
          null,
          0.007919770988394886,
          0.17194156539861102,
          null,
          -0.25833078230241235,
          -0.4714558393080053,
          null,
          0.42077606792657046,
          0.17194156539861102,
          null,
          0.17194156539861102,
          0.13905163966770254,
          null,
          0.13905163966770254,
          0.06951818562577317,
          null,
          0.06951818562577317,
          -0.034046969563039854,
          null,
          -0.16562895976424016,
          -0.034046969563039854,
          null
         ],
         "y": [
          -0.4199073989198435,
          -0.6436837445721644,
          null,
          -0.4199073989198435,
          -0.576369742191803,
          null,
          -0.4199073989198435,
          -0.10459385922238283,
          null,
          -0.576369742191803,
          -0.7092100634706165,
          null,
          -0.12794882360319743,
          -0.10459385922238283,
          null,
          -0.10459385922238283,
          0.23375489105628433,
          null,
          0.23375489105628433,
          0.5413258664763734,
          null,
          0.5413258664763734,
          0.8066328744473495,
          null,
          1,
          0.8066328744473495,
          null
         ]
        },
        {
         "marker": {
          "color": "blue",
          "size": 10
         },
         "mode": "markers",
         "type": "scatter",
         "x": [
          0.007919770988394886,
          -0.25833078230241235,
          0.12025532133064484,
          0.42077606792657046,
          -0.4714558393080053,
          0.17194156539861102,
          0.13905163966770254,
          0.06951818562577317,
          -0.16562895976424016,
          -0.034046969563039854
         ],
         "y": [
          -0.4199073989198435,
          -0.576369742191803,
          -0.6436837445721644,
          -0.12794882360319743,
          -0.7092100634706165,
          -0.10459385922238283,
          0.23375489105628433,
          0.5413258664763734,
          1,
          0.8066328744473495
         ]
        }
       ],
       "layout": {
        "hovermode": "closest",
        "margin": {
         "b": 20,
         "l": 5,
         "r": 5,
         "t": 40
        },
        "showlegend": false,
        "template": {
         "data": {
          "bar": [
           {
            "error_x": {
             "color": "#2a3f5f"
            },
            "error_y": {
             "color": "#2a3f5f"
            },
            "marker": {
             "line": {
              "color": "#E5ECF6",
              "width": 0.5
             },
             "pattern": {
              "fillmode": "overlay",
              "size": 10,
              "solidity": 0.2
             }
            },
            "type": "bar"
           }
          ],
          "barpolar": [
           {
            "marker": {
             "line": {
              "color": "#E5ECF6",
              "width": 0.5
             },
             "pattern": {
              "fillmode": "overlay",
              "size": 10,
              "solidity": 0.2
             }
            },
            "type": "barpolar"
           }
          ],
          "carpet": [
           {
            "aaxis": {
             "endlinecolor": "#2a3f5f",
             "gridcolor": "white",
             "linecolor": "white",
             "minorgridcolor": "white",
             "startlinecolor": "#2a3f5f"
            },
            "baxis": {
             "endlinecolor": "#2a3f5f",
             "gridcolor": "white",
             "linecolor": "white",
             "minorgridcolor": "white",
             "startlinecolor": "#2a3f5f"
            },
            "type": "carpet"
           }
          ],
          "choropleth": [
           {
            "colorbar": {
             "outlinewidth": 0,
             "ticks": ""
            },
            "type": "choropleth"
           }
          ],
          "contour": [
           {
            "colorbar": {
             "outlinewidth": 0,
             "ticks": ""
            },
            "colorscale": [
             [
              0,
              "#0d0887"
             ],
             [
              0.1111111111111111,
              "#46039f"
             ],
             [
              0.2222222222222222,
              "#7201a8"
             ],
             [
              0.3333333333333333,
              "#9c179e"
             ],
             [
              0.4444444444444444,
              "#bd3786"
             ],
             [
              0.5555555555555556,
              "#d8576b"
             ],
             [
              0.6666666666666666,
              "#ed7953"
             ],
             [
              0.7777777777777778,
              "#fb9f3a"
             ],
             [
              0.8888888888888888,
              "#fdca26"
             ],
             [
              1,
              "#f0f921"
             ]
            ],
            "type": "contour"
           }
          ],
          "contourcarpet": [
           {
            "colorbar": {
             "outlinewidth": 0,
             "ticks": ""
            },
            "type": "contourcarpet"
           }
          ],
          "heatmap": [
           {
            "colorbar": {
             "outlinewidth": 0,
             "ticks": ""
            },
            "colorscale": [
             [
              0,
              "#0d0887"
             ],
             [
              0.1111111111111111,
              "#46039f"
             ],
             [
              0.2222222222222222,
              "#7201a8"
             ],
             [
              0.3333333333333333,
              "#9c179e"
             ],
             [
              0.4444444444444444,
              "#bd3786"
             ],
             [
              0.5555555555555556,
              "#d8576b"
             ],
             [
              0.6666666666666666,
              "#ed7953"
             ],
             [
              0.7777777777777778,
              "#fb9f3a"
             ],
             [
              0.8888888888888888,
              "#fdca26"
             ],
             [
              1,
              "#f0f921"
             ]
            ],
            "type": "heatmap"
           }
          ],
          "heatmapgl": [
           {
            "colorbar": {
             "outlinewidth": 0,
             "ticks": ""
            },
            "colorscale": [
             [
              0,
              "#0d0887"
             ],
             [
              0.1111111111111111,
              "#46039f"
             ],
             [
              0.2222222222222222,
              "#7201a8"
             ],
             [
              0.3333333333333333,
              "#9c179e"
             ],
             [
              0.4444444444444444,
              "#bd3786"
             ],
             [
              0.5555555555555556,
              "#d8576b"
             ],
             [
              0.6666666666666666,
              "#ed7953"
             ],
             [
              0.7777777777777778,
              "#fb9f3a"
             ],
             [
              0.8888888888888888,
              "#fdca26"
             ],
             [
              1,
              "#f0f921"
             ]
            ],
            "type": "heatmapgl"
           }
          ],
          "histogram": [
           {
            "marker": {
             "pattern": {
              "fillmode": "overlay",
              "size": 10,
              "solidity": 0.2
             }
            },
            "type": "histogram"
           }
          ],
          "histogram2d": [
           {
            "colorbar": {
             "outlinewidth": 0,
             "ticks": ""
            },
            "colorscale": [
             [
              0,
              "#0d0887"
             ],
             [
              0.1111111111111111,
              "#46039f"
             ],
             [
              0.2222222222222222,
              "#7201a8"
             ],
             [
              0.3333333333333333,
              "#9c179e"
             ],
             [
              0.4444444444444444,
              "#bd3786"
             ],
             [
              0.5555555555555556,
              "#d8576b"
             ],
             [
              0.6666666666666666,
              "#ed7953"
             ],
             [
              0.7777777777777778,
              "#fb9f3a"
             ],
             [
              0.8888888888888888,
              "#fdca26"
             ],
             [
              1,
              "#f0f921"
             ]
            ],
            "type": "histogram2d"
           }
          ],
          "histogram2dcontour": [
           {
            "colorbar": {
             "outlinewidth": 0,
             "ticks": ""
            },
            "colorscale": [
             [
              0,
              "#0d0887"
             ],
             [
              0.1111111111111111,
              "#46039f"
             ],
             [
              0.2222222222222222,
              "#7201a8"
             ],
             [
              0.3333333333333333,
              "#9c179e"
             ],
             [
              0.4444444444444444,
              "#bd3786"
             ],
             [
              0.5555555555555556,
              "#d8576b"
             ],
             [
              0.6666666666666666,
              "#ed7953"
             ],
             [
              0.7777777777777778,
              "#fb9f3a"
             ],
             [
              0.8888888888888888,
              "#fdca26"
             ],
             [
              1,
              "#f0f921"
             ]
            ],
            "type": "histogram2dcontour"
           }
          ],
          "mesh3d": [
           {
            "colorbar": {
             "outlinewidth": 0,
             "ticks": ""
            },
            "type": "mesh3d"
           }
          ],
          "parcoords": [
           {
            "line": {
             "colorbar": {
              "outlinewidth": 0,
              "ticks": ""
             }
            },
            "type": "parcoords"
           }
          ],
          "pie": [
           {
            "automargin": true,
            "type": "pie"
           }
          ],
          "scatter": [
           {
            "fillpattern": {
             "fillmode": "overlay",
             "size": 10,
             "solidity": 0.2
            },
            "type": "scatter"
           }
          ],
          "scatter3d": [
           {
            "line": {
             "colorbar": {
              "outlinewidth": 0,
              "ticks": ""
             }
            },
            "marker": {
             "colorbar": {
              "outlinewidth": 0,
              "ticks": ""
             }
            },
            "type": "scatter3d"
           }
          ],
          "scattercarpet": [
           {
            "marker": {
             "colorbar": {
              "outlinewidth": 0,
              "ticks": ""
             }
            },
            "type": "scattercarpet"
           }
          ],
          "scattergeo": [
           {
            "marker": {
             "colorbar": {
              "outlinewidth": 0,
              "ticks": ""
             }
            },
            "type": "scattergeo"
           }
          ],
          "scattergl": [
           {
            "marker": {
             "colorbar": {
              "outlinewidth": 0,
              "ticks": ""
             }
            },
            "type": "scattergl"
           }
          ],
          "scattermapbox": [
           {
            "marker": {
             "colorbar": {
              "outlinewidth": 0,
              "ticks": ""
             }
            },
            "type": "scattermapbox"
           }
          ],
          "scatterpolar": [
           {
            "marker": {
             "colorbar": {
              "outlinewidth": 0,
              "ticks": ""
             }
            },
            "type": "scatterpolar"
           }
          ],
          "scatterpolargl": [
           {
            "marker": {
             "colorbar": {
              "outlinewidth": 0,
              "ticks": ""
             }
            },
            "type": "scatterpolargl"
           }
          ],
          "scatterternary": [
           {
            "marker": {
             "colorbar": {
              "outlinewidth": 0,
              "ticks": ""
             }
            },
            "type": "scatterternary"
           }
          ],
          "surface": [
           {
            "colorbar": {
             "outlinewidth": 0,
             "ticks": ""
            },
            "colorscale": [
             [
              0,
              "#0d0887"
             ],
             [
              0.1111111111111111,
              "#46039f"
             ],
             [
              0.2222222222222222,
              "#7201a8"
             ],
             [
              0.3333333333333333,
              "#9c179e"
             ],
             [
              0.4444444444444444,
              "#bd3786"
             ],
             [
              0.5555555555555556,
              "#d8576b"
             ],
             [
              0.6666666666666666,
              "#ed7953"
             ],
             [
              0.7777777777777778,
              "#fb9f3a"
             ],
             [
              0.8888888888888888,
              "#fdca26"
             ],
             [
              1,
              "#f0f921"
             ]
            ],
            "type": "surface"
           }
          ],
          "table": [
           {
            "cells": {
             "fill": {
              "color": "#EBF0F8"
             },
             "line": {
              "color": "white"
             }
            },
            "header": {
             "fill": {
              "color": "#C8D4E3"
             },
             "line": {
              "color": "white"
             }
            },
            "type": "table"
           }
          ]
         },
         "layout": {
          "annotationdefaults": {
           "arrowcolor": "#2a3f5f",
           "arrowhead": 0,
           "arrowwidth": 1
          },
          "autotypenumbers": "strict",
          "coloraxis": {
           "colorbar": {
            "outlinewidth": 0,
            "ticks": ""
           }
          },
          "colorscale": {
           "diverging": [
            [
             0,
             "#8e0152"
            ],
            [
             0.1,
             "#c51b7d"
            ],
            [
             0.2,
             "#de77ae"
            ],
            [
             0.3,
             "#f1b6da"
            ],
            [
             0.4,
             "#fde0ef"
            ],
            [
             0.5,
             "#f7f7f7"
            ],
            [
             0.6,
             "#e6f5d0"
            ],
            [
             0.7,
             "#b8e186"
            ],
            [
             0.8,
             "#7fbc41"
            ],
            [
             0.9,
             "#4d9221"
            ],
            [
             1,
             "#276419"
            ]
           ],
           "sequential": [
            [
             0,
             "#0d0887"
            ],
            [
             0.1111111111111111,
             "#46039f"
            ],
            [
             0.2222222222222222,
             "#7201a8"
            ],
            [
             0.3333333333333333,
             "#9c179e"
            ],
            [
             0.4444444444444444,
             "#bd3786"
            ],
            [
             0.5555555555555556,
             "#d8576b"
            ],
            [
             0.6666666666666666,
             "#ed7953"
            ],
            [
             0.7777777777777778,
             "#fb9f3a"
            ],
            [
             0.8888888888888888,
             "#fdca26"
            ],
            [
             1,
             "#f0f921"
            ]
           ],
           "sequentialminus": [
            [
             0,
             "#0d0887"
            ],
            [
             0.1111111111111111,
             "#46039f"
            ],
            [
             0.2222222222222222,
             "#7201a8"
            ],
            [
             0.3333333333333333,
             "#9c179e"
            ],
            [
             0.4444444444444444,
             "#bd3786"
            ],
            [
             0.5555555555555556,
             "#d8576b"
            ],
            [
             0.6666666666666666,
             "#ed7953"
            ],
            [
             0.7777777777777778,
             "#fb9f3a"
            ],
            [
             0.8888888888888888,
             "#fdca26"
            ],
            [
             1,
             "#f0f921"
            ]
           ]
          },
          "colorway": [
           "#636efa",
           "#EF553B",
           "#00cc96",
           "#ab63fa",
           "#FFA15A",
           "#19d3f3",
           "#FF6692",
           "#B6E880",
           "#FF97FF",
           "#FECB52"
          ],
          "font": {
           "color": "#2a3f5f"
          },
          "geo": {
           "bgcolor": "white",
           "lakecolor": "white",
           "landcolor": "#E5ECF6",
           "showlakes": true,
           "showland": true,
           "subunitcolor": "white"
          },
          "hoverlabel": {
           "align": "left"
          },
          "hovermode": "closest",
          "mapbox": {
           "style": "light"
          },
          "paper_bgcolor": "white",
          "plot_bgcolor": "#E5ECF6",
          "polar": {
           "angularaxis": {
            "gridcolor": "white",
            "linecolor": "white",
            "ticks": ""
           },
           "bgcolor": "#E5ECF6",
           "radialaxis": {
            "gridcolor": "white",
            "linecolor": "white",
            "ticks": ""
           }
          },
          "scene": {
           "xaxis": {
            "backgroundcolor": "#E5ECF6",
            "gridcolor": "white",
            "gridwidth": 2,
            "linecolor": "white",
            "showbackground": true,
            "ticks": "",
            "zerolinecolor": "white"
           },
           "yaxis": {
            "backgroundcolor": "#E5ECF6",
            "gridcolor": "white",
            "gridwidth": 2,
            "linecolor": "white",
            "showbackground": true,
            "ticks": "",
            "zerolinecolor": "white"
           },
           "zaxis": {
            "backgroundcolor": "#E5ECF6",
            "gridcolor": "white",
            "gridwidth": 2,
            "linecolor": "white",
            "showbackground": true,
            "ticks": "",
            "zerolinecolor": "white"
           }
          },
          "shapedefaults": {
           "line": {
            "color": "#2a3f5f"
           }
          },
          "ternary": {
           "aaxis": {
            "gridcolor": "white",
            "linecolor": "white",
            "ticks": ""
           },
           "baxis": {
            "gridcolor": "white",
            "linecolor": "white",
            "ticks": ""
           },
           "bgcolor": "#E5ECF6",
           "caxis": {
            "gridcolor": "white",
            "linecolor": "white",
            "ticks": ""
           }
          },
          "title": {
           "x": 0.05
          },
          "xaxis": {
           "automargin": true,
           "gridcolor": "white",
           "linecolor": "white",
           "ticks": "",
           "title": {
            "standoff": 15
           },
           "zerolinecolor": "white",
           "zerolinewidth": 2
          },
          "yaxis": {
           "automargin": true,
           "gridcolor": "white",
           "linecolor": "white",
           "ticks": "",
           "title": {
            "standoff": 15
           },
           "zerolinecolor": "white",
           "zerolinewidth": 2
          }
         }
        },
        "title": {
         "font": {
          "size": 16
         }
        },
        "xaxis": {
         "showgrid": false,
         "showticklabels": false,
         "zeroline": false
        },
        "yaxis": {
         "showgrid": false,
         "showticklabels": false,
         "zeroline": false
        }
       }
      }
     },
     "metadata": {},
     "output_type": "display_data"
    }
   ],
   "source": [
    "nx_to_plotly(nx.random_tree(10))"
   ]
  },
  {
   "cell_type": "code",
   "execution_count": 4,
   "metadata": {},
   "outputs": [],
   "source": [
    "def nx_to_cyto(graph, positions=None):\n",
    "\n",
    "    if not positions:\n",
    "        positions = nx.spring_layout(graph)\n",
    "    else:\n",
    "        assert isinstance(positions, dict), \"positions needs to be a dict with the node positions\"\n",
    "\n",
    "\n",
    "    node_data = [{\"data\": {\"id\": str(i), \"label\": str(i)}, \n",
    "                \"position\": {\"x\": positions[i][0]*1000, \"y\": positions[i][1]*1000}, \n",
    "                \"locked\":False,\n",
    "                'classes': 'red',\n",
    "                \"style\": {\"shape\": \"circle\",\n",
    "                            'width': 30,\n",
    "                            'height': 30,\n",
    "                            \"color\": \"white\",\n",
    "                            }\n",
    "                } \n",
    "                for i in list(graph.nodes())]\n",
    "\n",
    "    edge_data = [{'data': {'source': str(i[0]), 'target': str(i[1])},\n",
    "              \"style\": {'line-color': '#9e9e26', # \n",
    "                        'width': 2}} \n",
    "              for i in graph.edges()]\n",
    "\n",
    "    return node_data, edge_data"
   ]
  },
  {
   "cell_type": "code",
   "execution_count": 5,
   "metadata": {},
   "outputs": [
    {
     "data": {
      "text/plain": [
       "([{'data': {'id': '0', 'label': '0'},\n",
       "   'position': {'x': -460.07519397698803, 'y': 21.079296748655615},\n",
       "   'locked': False,\n",
       "   'classes': 'red',\n",
       "   'style': {'shape': 'circle', 'width': 30, 'height': 30, 'color': 'white'}},\n",
       "  {'data': {'id': '1', 'label': '1'},\n",
       "   'position': {'x': -431.8434829790978, 'y': -357.15238632126176},\n",
       "   'locked': False,\n",
       "   'classes': 'red',\n",
       "   'style': {'shape': 'circle', 'width': 30, 'height': 30, 'color': 'white'}},\n",
       "  {'data': {'id': '2', 'label': '2'},\n",
       "   'position': {'x': 288.7369715050347, 'y': -120.51630418781369},\n",
       "   'locked': False,\n",
       "   'classes': 'red',\n",
       "   'style': {'shape': 'circle', 'width': 30, 'height': 30, 'color': 'white'}},\n",
       "  {'data': {'id': '3', 'label': '3'},\n",
       "   'position': {'x': -183.7507685431297, 'y': 690.9615221330787},\n",
       "   'locked': False,\n",
       "   'classes': 'red',\n",
       "   'style': {'shape': 'circle', 'width': 30, 'height': 30, 'color': 'white'}},\n",
       "  {'data': {'id': '4', 'label': '4'},\n",
       "   'position': {'x': -157.54953740195913, 'y': -50.9085721712019},\n",
       "   'locked': False,\n",
       "   'classes': 'red',\n",
       "   'style': {'shape': 'circle', 'width': 30, 'height': 30, 'color': 'white'}},\n",
       "  {'data': {'id': '5', 'label': '5'},\n",
       "   'position': {'x': 685.6081707239977, 'y': -121.35285567770481},\n",
       "   'locked': False,\n",
       "   'classes': 'red',\n",
       "   'style': {'shape': 'circle', 'width': 30, 'height': 30, 'color': 'white'}},\n",
       "  {'data': {'id': '6', 'label': '6'},\n",
       "   'position': {'x': 1000.0, 'y': -121.65947085263339},\n",
       "   'locked': False,\n",
       "   'classes': 'red',\n",
       "   'style': {'shape': 'circle', 'width': 30, 'height': 30, 'color': 'white'}},\n",
       "  {'data': {'id': '7', 'label': '7'},\n",
       "   'position': {'x': -675.5872291859894, 'y': -566.613225562528},\n",
       "   'locked': False,\n",
       "   'classes': 'red',\n",
       "   'style': {'shape': 'circle', 'width': 30, 'height': 30, 'color': 'white'}},\n",
       "  {'data': {'id': '8', 'label': '8'},\n",
       "   'position': {'x': -146.41002982381258, 'y': 352.66529308369945},\n",
       "   'locked': False,\n",
       "   'classes': 'red',\n",
       "   'style': {'shape': 'circle', 'width': 30, 'height': 30, 'color': 'white'}},\n",
       "  {'data': {'id': '9', 'label': '9'},\n",
       "   'position': {'x': 80.8710996819433, 'y': 273.4967028077101},\n",
       "   'locked': False,\n",
       "   'classes': 'red',\n",
       "   'style': {'shape': 'circle', 'width': 30, 'height': 30, 'color': 'white'}}],\n",
       " [{'data': {'source': '0', 'target': '4'},\n",
       "   'style': {'line-color': '#9e9e26', 'width': 2}},\n",
       "  {'data': {'source': '1', 'target': '7'},\n",
       "   'style': {'line-color': '#9e9e26', 'width': 2}},\n",
       "  {'data': {'source': '1', 'target': '4'},\n",
       "   'style': {'line-color': '#9e9e26', 'width': 2}},\n",
       "  {'data': {'source': '2', 'target': '5'},\n",
       "   'style': {'line-color': '#9e9e26', 'width': 2}},\n",
       "  {'data': {'source': '2', 'target': '4'},\n",
       "   'style': {'line-color': '#9e9e26', 'width': 2}},\n",
       "  {'data': {'source': '3', 'target': '8'},\n",
       "   'style': {'line-color': '#9e9e26', 'width': 2}},\n",
       "  {'data': {'source': '4', 'target': '8'},\n",
       "   'style': {'line-color': '#9e9e26', 'width': 2}},\n",
       "  {'data': {'source': '5', 'target': '6'},\n",
       "   'style': {'line-color': '#9e9e26', 'width': 2}},\n",
       "  {'data': {'source': '8', 'target': '9'},\n",
       "   'style': {'line-color': '#9e9e26', 'width': 2}}])"
      ]
     },
     "execution_count": 5,
     "metadata": {},
     "output_type": "execute_result"
    }
   ],
   "source": [
    "nx_to_cyto(nx.random_tree(10))"
   ]
  },
  {
   "cell_type": "code",
   "execution_count": null,
   "metadata": {},
   "outputs": [],
   "source": []
  }
 ],
 "metadata": {
  "kernelspec": {
   "display_name": "Python 3.10.4 64-bit",
   "language": "python",
   "name": "python3"
  },
  "language_info": {
   "codemirror_mode": {
    "name": "ipython",
    "version": 3
   },
   "file_extension": ".py",
   "mimetype": "text/x-python",
   "name": "python",
   "nbconvert_exporter": "python",
   "pygments_lexer": "ipython3",
   "version": "3.10.4"
  },
  "orig_nbformat": 4,
  "vscode": {
   "interpreter": {
    "hash": "8c3d4d9970fc5c09c50d9318a9c7fbf4d0159e4b28833276f5678ee22bded273"
   }
  }
 },
 "nbformat": 4,
 "nbformat_minor": 2
}
